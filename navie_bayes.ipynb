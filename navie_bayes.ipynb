{
 "cells": [
  {
   "cell_type": "code",
   "execution_count": 2,
   "metadata": {},
   "outputs": [],
   "source": [
    "from sklearn.naive_bayes import MultinomialNB\n",
    "import numpy as np "
   ]
  },
  {
   "cell_type": "markdown",
   "metadata": {},
   "source": [
    "## MACHINE LEARNING CO BAN"
   ]
  },
  {
   "cell_type": "code",
   "execution_count": 4,
   "metadata": {},
   "outputs": [
    {
     "name": "stdout",
     "output_type": "stream",
     "text": [
      "Predicting class of d5: B\n",
      "Probability of d6 in each class: [[0.29175335 0.70824665]]\n"
     ]
    }
   ],
   "source": [
    "# train data\n",
    "d1 = [2, 1, 1, 0, 0, 0, 0, 0, 0]\n",
    "d2 = [1, 1, 0, 1, 1, 0, 0, 0, 0]\n",
    "d3 = [0, 1, 0, 0, 1, 1, 0, 0, 0]\n",
    "d4 = [0, 1, 0, 0, 0, 0, 1, 1, 1]\n",
    "\n",
    "train_data = np.array([d1, d2, d3, d4])\n",
    "label = np.array(['B', 'B', 'B', 'N']) \n",
    "\n",
    "# test data\n",
    "d5 = np.array([[2, 0, 0, 1, 0, 0, 0, 1, 0]])\n",
    "d6 = np.array([[0, 1, 0, 0, 0, 0, 0, 1, 1]])\n",
    "\n",
    "## call MultinomialNB\n",
    "clf = MultinomialNB()\n",
    "# training \n",
    "clf.fit(train_data, label)\n",
    "\n",
    "# test\n",
    "print('Predicting class of d5:', str(clf.predict(d5)[0]))\n",
    "print('Probability of d6 in each class:', clf.predict_proba(d6))"
   ]
  },
  {
   "cell_type": "markdown",
   "metadata": {},
   "source": [
    "### Go Pro From Scratch"
   ]
  },
  {
   "cell_type": "code",
   "execution_count": 66,
   "metadata": {},
   "outputs": [],
   "source": [
    "class NB:\n",
    "    def __init__(self, smoothing=1e-5):\n",
    "        self.smoothing = smoothing\n",
    "        \n",
    "    def fit(self,data,label):\n",
    "        u_labels = np.unique(label)\n",
    "        self.u_labels = u_labels\n",
    "        label = label.reshape(-1,1)\n",
    "        all_data = np.concatenate([data,label],axis=1)\n",
    "        self.final_result = []\n",
    "        \n",
    "        for u_label in u_labels:\n",
    "            data_for_u_label = all_data[all_data[:,-1]==u_label]\n",
    "            \n",
    "            data_for_u_label = data_for_u_label[:,:-1].astype(np.float32)\n",
    "            \n",
    "            data_for_u_label += self.smoothing\n",
    "            weight = np.sum(data_for_u_label.T, axis=1)\n",
    "            print(weight)\n",
    "            self.final_result.append(weight)\n",
    "        \n",
    "        self.final_result = np.array(self.final_result)\n",
    "        print(self.final_result)\n",
    "    \n",
    "    def preidct(self,data):\n",
    "        assert len(data.shape) ==2\n",
    "        result = data@self.final_result.T\n",
    "        return self.u_labels[np.argmax(result)]"
   ]
  },
  {
   "cell_type": "code",
   "execution_count": 67,
   "metadata": {},
   "outputs": [
    {
     "name": "stdout",
     "output_type": "stream",
     "text": [
      "[3.00003e+00 3.00003e+00 1.00003e+00 1.00003e+00 2.00003e+00 1.00003e+00\n",
      " 3.00000e-05 3.00000e-05 3.00000e-05]\n",
      "[1.00000e-05 1.00001e+00 1.00000e-05 1.00000e-05 1.00000e-05 1.00000e-05\n",
      " 1.00001e+00 1.00001e+00 1.00001e+00]\n",
      "[[3.00003e+00 3.00003e+00 1.00003e+00 1.00003e+00 2.00003e+00 1.00003e+00\n",
      "  3.00000e-05 3.00000e-05 3.00000e-05]\n",
      " [1.00000e-05 1.00001e+00 1.00000e-05 1.00000e-05 1.00000e-05 1.00000e-05\n",
      "  1.00001e+00 1.00001e+00 1.00001e+00]]\n"
     ]
    }
   ],
   "source": [
    "nb = NB()\n",
    "nb.fit(train_data,label)"
   ]
  },
  {
   "cell_type": "code",
   "execution_count": 68,
   "metadata": {},
   "outputs": [
    {
     "name": "stdout",
     "output_type": "stream",
     "text": [
      "(9, 1)\n",
      "(2, 9)\n"
     ]
    },
    {
     "data": {
      "text/plain": [
       "'B'"
      ]
     },
     "execution_count": 68,
     "metadata": {},
     "output_type": "execute_result"
    }
   ],
   "source": [
    "nb.preidct(d5)"
   ]
  }
 ],
 "metadata": {
  "kernelspec": {
   "display_name": "Python 3",
   "language": "python",
   "name": "python3"
  },
  "language_info": {
   "codemirror_mode": {
    "name": "ipython",
    "version": 3
   },
   "file_extension": ".py",
   "mimetype": "text/x-python",
   "name": "python",
   "nbconvert_exporter": "python",
   "pygments_lexer": "ipython3",
   "version": "3.11.6"
  }
 },
 "nbformat": 4,
 "nbformat_minor": 2
}
